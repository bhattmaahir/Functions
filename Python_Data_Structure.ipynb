{
  "nbformat": 4,
  "nbformat_minor": 0,
  "metadata": {
    "colab": {
      "provenance": []
    },
    "kernelspec": {
      "name": "python3",
      "display_name": "Python 3"
    },
    "language_info": {
      "name": "python"
    }
  },
  "cells": [
    {
      "cell_type": "markdown",
      "source": [
        "# Data Types And Structures"
      ],
      "metadata": {
        "id": "Xejl1xUcvUqR"
      }
    },
    {
      "cell_type": "markdown",
      "source": [
        "1. What are data structures, and why are they important?\n",
        "\n",
        "    Data structures are ways of organizing and storing data so that it can be accessed and modified efficiently. They are important because they provide efficient ways to perform various operations such as searching, inserting, deleting, and updating data. Examples include arrays, lists, stacks, queues, trees, and graphs. Good data structures improve performance, reduce complexity, and optimize resource usage in algorithms.\n",
        "  "
      ],
      "metadata": {
        "id": "M9oVxQXhwKsp"
      }
    },
    {
      "cell_type": "markdown",
      "source": [
        "2. Explain the difference between mutable and immutable data types with examples.\n",
        "\n",
        "    Mutable data types are those whose values can be changed after they are created. For example, lists and dictionaries are mutable in Python. You can modify, add, or remove elements from them.\n",
        "    \n",
        "    Immutable data types are those whose values cannot be changed after they are created. Strings, tuples, and integers are examples of immutable types in Python.\n"
      ],
      "metadata": {
        "id": "ZZCnFZ10zIDc"
      }
    },
    {
      "cell_type": "markdown",
      "source": [
        "3. What are the main differences between lists and tuples in Python?\n",
        "\n",
        "    Lists are mutable, meaning their elements can be modified after creation.\n",
        "\n",
        "    Tuples are immutable, meaning once created, their elements cannot be changed.\n",
        "\n",
        "    Lists are defined using square brackets ([]), while tuples are defined using parentheses (()).\n",
        "\n",
        "    Lists have more built-in methods (like append(), remove()) compared to tuples."
      ],
      "metadata": {
        "id": "IyzbyOkYzIQV"
      }
    },
    {
      "cell_type": "markdown",
      "source": [
        "4. Describe how dictionaries store data.\n",
        "\n",
        "    Dictionaries in Python store data in key-value pairs. They use a hash table internally to store and retrieve the data, allowing for fast lookups. The keys must be unique and immutable (e.g., strings, numbers), while the values can be any data type (mutable or immutable)."
      ],
      "metadata": {
        "id": "_DhGlBJqzIUV"
      }
    },
    {
      "cell_type": "markdown",
      "source": [
        "5. Why might you use a set instead of a list in Python?\n",
        "\n",
        "    A set is an unordered collection of unique elements. We might use a set instead of a list when:\n",
        "\n",
        "    We want to ensure that all elements are unique.\n",
        "\n",
        "    We need fast membership testing (in keyword).\n",
        "\n",
        "    We do not care about the order of the elements.\n",
        "\n",
        "    Sets are typically faster for operations like checking if an element exists in the collection.\n",
        "\n"
      ],
      "metadata": {
        "id": "sH6Nr1yTzIYH"
      }
    },
    {
      "cell_type": "markdown",
      "source": [
        "6. What is a string in Python, and how is it different from a list?\n",
        "\n",
        "    A string in Python is an immutable sequence of characters. Unlike lists, strings cannot be modified after they are created. Strings are used to represent textual data, while lists can store collections of items (which can be of any data type).\n",
        "\n",
        "    Strings are indexed by characters.\n",
        "\n",
        "    Lists are indexed by elements (which can be of mixed types)."
      ],
      "metadata": {
        "id": "ibbSIVibzIcO"
      }
    },
    {
      "cell_type": "markdown",
      "source": [
        "7. How do tuples ensure data integrity in Python?\n",
        "\n",
        "    Tuples ensure data integrity because they are immutable. Once a tuple is created, its contents cannot be modified, meaning the data within the tuple remains unchanged. This feature makes tuples ideal for scenarios where data integrity and protection from accidental changes are critical."
      ],
      "metadata": {
        "id": "5qu-9U9SzIfm"
      }
    },
    {
      "cell_type": "markdown",
      "source": [
        "8. What is a hash table, and how does it relate to dictionaries in Python?\n",
        "\n",
        "    A hash table is a data structure that maps keys to values using a hash function to compute an index into an array of buckets or slots. In Python, dictionaries are implemented using hash tables, allowing fast access to values based on their unique keys. The key is hashed, and the hash value determines where the corresponding value is stored."
      ],
      "metadata": {
        "id": "2w589E6TzIi6"
      }
    },
    {
      "cell_type": "markdown",
      "source": [
        "9. Can lists contain different data types in Python.\n",
        "\n",
        "    Yes, lists in Python can contain elements of different data types. For example, a list can store integers, strings, and even other lists:\n",
        "\n",
        "    my_list = [1, \"hello\", 3.14, [1, 2, 3]]"
      ],
      "metadata": {
        "id": "XEadetMdzImY"
      }
    },
    {
      "cell_type": "markdown",
      "source": [
        "10. Explain why strings are immutable in Python.\n",
        "\n",
        "    Strings are immutable in Python for performance reasons. Immutability allows Python to optimize memory usage and makes strings safer to use in multithreading environments. Since strings are immutable, they can be stored and shared safely without worrying about unintended modifications.\n"
      ],
      "metadata": {
        "id": "b3W4pE4PzIpg"
      }
    },
    {
      "cell_type": "markdown",
      "source": [
        "11. What advantages do dictionaries offer over lists for certain tasks?\n",
        "\n",
        "    Faster lookups: Dictionaries use hash tables, so accessing elements by key is faster (O(1) time complexity) compared to lists (O(n) for searching).\n",
        "\n",
        "    Unique keys: Dictionaries provide a natural way to store and retrieve data based on unique identifiers (keys), which is useful for tasks like counting or mapping relationships."
      ],
      "metadata": {
        "id": "3hQLQgGIzIs4"
      }
    },
    {
      "cell_type": "markdown",
      "source": [
        "12. How do sets handle duplicate values in Python?\n",
        "\n",
        "    Sets automatically remove duplicate values. If you try to add an element that already exists in a set, it will not be added again. This ensures that sets only contain unique elements."
      ],
      "metadata": {
        "id": "Es0bNiUCzIwB"
      }
    },
    {
      "cell_type": "markdown",
      "source": [
        "13. Describe a scenario where using a tuple would be preferable over a list.\n",
        "\n",
        "    Tuples are preferable when the data is constant and you want to ensure its integrity. For example, when representing fixed coordinates (latitude, longitude), using a tuple makes sense because the values should not change.\n",
        "\n",
        "    coordinates = (40.7128, -74.0060)  # A tuple representing coordinates\n"
      ],
      "metadata": {
        "id": "5sebN1MJzIy4"
      }
    },
    {
      "cell_type": "markdown",
      "source": [
        "14. How does the “in” keyword work differently for lists and dictionaries?\n",
        "\n",
        "    In lists, the in keyword checks if an element exists in the list by iterating through each item.\n",
        "\n",
        "    In dictionaries, the in keyword checks if a key exists in the dictionary, which is faster due to the use of hash tables.\n",
        "\n",
        "    my_list = [1, 2, 3]\n",
        "    print(2 in my_list)  # True\n",
        "\n",
        "    my_dict = {\"a\": 1, \"b\": 2}\n",
        "    print(\"b\" in my_dict)  # True"
      ],
      "metadata": {
        "id": "4URtOtd_zI2m"
      }
    },
    {
      "cell_type": "markdown",
      "source": [
        "15. Can you modify the elements of a tuple? Explain why or why not?\n",
        "\n",
        "    No, we cannot modify the elements of a tuple because tuples are immutable. Once a tuple is created, its elements cannot be altered, which ensures that the data stored in the tuple remains constant throughout the program.\n",
        "\n",
        "    my_tuple = (1, 2, 3)\n",
        "    my_tuple[0] = 10  # This would raise a TypeError"
      ],
      "metadata": {
        "id": "81yY4q3czI6X"
      }
    },
    {
      "cell_type": "markdown",
      "source": [
        "16.  What is a nested dictionary, and give an example of its use case.\n",
        "\n",
        "    A nested dictionary is a dictionary where the value of a key is another dictionary. It is useful when you need to store more complex, hierarchical data.\n",
        "\n",
        "    students = {\n",
        "    \"John\": {\"age\": 20, \"grade\": \"A\"},\n",
        "    \"Jane\": {\"age\": 22, \"grade\": \"B\"}\n",
        "    }\n",
        "    This structure can be used to store data about students, where each student has a dictionary with their personal information."
      ],
      "metadata": {
        "id": "g8bp9UmrzI8y"
      }
    },
    {
      "cell_type": "markdown",
      "source": [
        "17. Describe the time complexity of accessing elements in a dictionary?\n",
        "\n",
        "    The time complexity of accessing an element in a dictionary by key is O(1) on average, thanks to the underlying hash table implementation. This makes dictionary lookups very fast, even for large datasets."
      ],
      "metadata": {
        "id": "58dlu-3UzJA6"
      }
    },
    {
      "cell_type": "markdown",
      "source": [
        "18. In what situations are lists preferred over dictionaries?\n",
        "\n",
        "    Lists are preferred over dictionaries when:\n",
        "\n",
        "    The order of elements matters.\n",
        "\n",
        "    We need to store a sequence of values that can be indexed by numbers.\n",
        "\n",
        "    We do not need to map values to unique keys, but just need an ordered collection of items.\n",
        "\n",
        "\n",
        "\n",
        "\n",
        "\n",
        "    "
      ],
      "metadata": {
        "id": "FaUMsI-zzJEg"
      }
    },
    {
      "cell_type": "markdown",
      "source": [
        "19. Why are dictionaries considered unordered, and how does that affect data retrieval?\n",
        "\n",
        "    Dictionaries in Python are considered unordered because their keys are stored in a hash table, which does not guarantee a specific order of items. In Python 3.7 and above, dictionaries maintain insertion order, but this is an implementation detail. For unordered collections, data retrieval by key remains fast, but the order of elements is not predictable."
      ],
      "metadata": {
        "id": "7Kw-Yqk1zJHU"
      }
    },
    {
      "cell_type": "markdown",
      "source": [
        "20. Explain the difference between a list and a dictionary in terms of data retrieval.\n",
        "\n",
        "    Lists store elements in an ordered sequence and use index-based retrieval. You access list elements using their position (index).\n",
        "\n",
        "    my_list = [10, 20, 30]\n",
        "    print(my_list[1])  # Access by index\n",
        "\n",
        "    Dictionaries store data in key-value pairs and use key-based retrieval. You access dictionary values using their unique key.\n",
        "\n",
        "    my_dict = {\"a\": 1, \"b\": 2}\n",
        "    print(my_dict[\"a\"])  # Access by key"
      ],
      "metadata": {
        "id": "bH9jLKBSzJJs"
      }
    },
    {
      "cell_type": "markdown",
      "source": [
        "# Practical Questions"
      ],
      "metadata": {
        "id": "43xFZZZb_Gg0"
      }
    },
    {
      "cell_type": "code",
      "source": [
        "# 1. Write a code to create a string with your name and print it.\n",
        "\n",
        "# Create a string with my name\n",
        "my_name = \"Mahir Ashaq Bhat\"\n",
        "\n",
        "# Print the string\n",
        "print(my_name)\n"
      ],
      "metadata": {
        "colab": {
          "base_uri": "https://localhost:8080/"
        },
        "id": "xg9z7fqO_Q9V",
        "outputId": "3d30b263-a743-4005-884a-270eaa062cbf"
      },
      "execution_count": 1,
      "outputs": [
        {
          "output_type": "stream",
          "name": "stdout",
          "text": [
            "Mahir Ashaq Bhat\n"
          ]
        }
      ]
    },
    {
      "cell_type": "code",
      "source": [
        "# 2. Write a code to find the length of the string \"Hello World\"\n",
        "\n",
        " # Define the string\n",
        "my_string = \"Hello World\"\n",
        "\n",
        "# Find the length of the string\n",
        "length = len(my_string)\n",
        "\n",
        "# Print the length\n",
        "print(\"The length of the string is:\", length)\n"
      ],
      "metadata": {
        "colab": {
          "base_uri": "https://localhost:8080/"
        },
        "id": "AWnrWtwj_RJU",
        "outputId": "e91979f8-a7d0-4cf1-b5d0-d3162397c53e"
      },
      "execution_count": 2,
      "outputs": [
        {
          "output_type": "stream",
          "name": "stdout",
          "text": [
            "The length of the string is: 11\n"
          ]
        }
      ]
    },
    {
      "cell_type": "code",
      "source": [
        "# 3. Write a code to slice the first 3 characters from the string \"Python Programming\"\n",
        "\n",
        " # Define the string\n",
        "my_string = \"PWSkills is the waste of time\"\n",
        "\n",
        "# Slice the first 3 characters\n",
        "sliced_string = my_string[:3]\n",
        "\n",
        "# Print the sliced string\n",
        "print(\"The first 3 characters are:\", sliced_string)\n"
      ],
      "metadata": {
        "colab": {
          "base_uri": "https://localhost:8080/"
        },
        "id": "8lyUTcCDAXqS",
        "outputId": "6e8367f5-7865-4bcb-bf0d-4ddc70eef427"
      },
      "execution_count": 4,
      "outputs": [
        {
          "output_type": "stream",
          "name": "stdout",
          "text": [
            "The first 3 characters are: PWS\n"
          ]
        }
      ]
    },
    {
      "cell_type": "code",
      "source": [
        "# 4. Write a code to convert the string \"hello\" to uppercase.\n",
        "\n",
        " # Define the string\n",
        "my_string = \"hello\"\n",
        "\n",
        "# Convert the string to uppercase\n",
        "uppercase_string = my_string.upper()\n",
        "\n",
        "# Print the uppercase string\n",
        "print(\"The string in uppercase is:\", uppercase_string)\n",
        "\n"
      ],
      "metadata": {
        "colab": {
          "base_uri": "https://localhost:8080/"
        },
        "id": "_bhGjiplAXyB",
        "outputId": "6d6d7daa-2092-4fc3-d147-c7de4675ab67"
      },
      "execution_count": 5,
      "outputs": [
        {
          "output_type": "stream",
          "name": "stdout",
          "text": [
            "The string in uppercase is: HELLO\n"
          ]
        }
      ]
    },
    {
      "cell_type": "code",
      "source": [
        "# 5. Write a code to replace the word \"apple\" with \"orange\" in the string \"I like apple\"\n",
        "\n",
        " # Define the string\n",
        "my_string = \"I like apple\"\n",
        "\n",
        "# Replace the word \"apple\" with \"orange\"\n",
        "updated_string = my_string.replace(\"apple\", \"orange\")\n",
        "\n",
        "# Print the updated string\n",
        "print(\"Updated string:\", updated_string)\n"
      ],
      "metadata": {
        "colab": {
          "base_uri": "https://localhost:8080/"
        },
        "id": "dwjHaa1EAX25",
        "outputId": "2993fbe1-2752-403c-d85a-1175e9f7522b"
      },
      "execution_count": 7,
      "outputs": [
        {
          "output_type": "stream",
          "name": "stdout",
          "text": [
            "Updated string: I like orange\n"
          ]
        }
      ]
    },
    {
      "cell_type": "code",
      "source": [
        "# 6. Write a code to create a list with numbers 1 to 5 and print it.\n",
        "\n",
        "\n",
        "# Create the list with numbers 1 to 5\n",
        "my_list = [1, 2, 3, 4, 5]\n",
        "\n",
        "# Print the list\n",
        "print(\"The list is:\", my_list)\n"
      ],
      "metadata": {
        "colab": {
          "base_uri": "https://localhost:8080/"
        },
        "id": "0r4aSrT-AX8b",
        "outputId": "f149f130-1323-4c2e-a1a4-e9bb66424b97"
      },
      "execution_count": 8,
      "outputs": [
        {
          "output_type": "stream",
          "name": "stdout",
          "text": [
            "The list is: [1, 2, 3, 4, 5]\n"
          ]
        }
      ]
    },
    {
      "cell_type": "code",
      "source": [
        "#7. Write a code to append the number 10 to the list [1, 2, 3, 4]\n",
        "\n",
        " # Define the list\n",
        "my_list = [1, 2, 3, 4]\n",
        "\n",
        "# Append the number 10 to the list\n",
        "my_list.append(10)\n",
        "\n",
        "# Print the updated list\n",
        "print(\"Updated list:\", my_list)\n"
      ],
      "metadata": {
        "colab": {
          "base_uri": "https://localhost:8080/"
        },
        "id": "P4J7O0yyAYGT",
        "outputId": "be929d3f-cdcd-4133-e0a1-1d2db71bed34"
      },
      "execution_count": 9,
      "outputs": [
        {
          "output_type": "stream",
          "name": "stdout",
          "text": [
            "Updated list: [1, 2, 3, 4, 10]\n"
          ]
        }
      ]
    },
    {
      "cell_type": "code",
      "source": [
        "# 8. Write a code to remove the number 3 from the list [1, 2, 3, 4, 5]\n",
        "\n",
        " # Define the list\n",
        "my_list = [1, 2, 3, 4, 5]\n",
        "\n",
        "# Remove the number 3 from the list\n",
        "my_list.remove(3)\n",
        "\n",
        "# Print the updated list\n",
        "print(\"Updated list:\", my_list)\n",
        "\n"
      ],
      "metadata": {
        "colab": {
          "base_uri": "https://localhost:8080/"
        },
        "id": "zrbx9ZdiAYM4",
        "outputId": "fb3334ac-9c37-4282-935e-947acb602970"
      },
      "execution_count": 12,
      "outputs": [
        {
          "output_type": "stream",
          "name": "stdout",
          "text": [
            "Updated list: [1, 2, 4, 5]\n"
          ]
        }
      ]
    },
    {
      "cell_type": "code",
      "source": [
        "# 9. Write a code to access the second element in the list ['a', 'b', 'c', 'd']\n",
        "\n",
        " # Define the list\n",
        "my_list = ['a', 'b', 'c', 'd']\n",
        "\n",
        "# Access the second element (index 1)\n",
        "second_element = my_list[1]\n",
        "\n",
        "# Print the second element\n",
        "print(\"The second element is:\", second_element)\n"
      ],
      "metadata": {
        "colab": {
          "base_uri": "https://localhost:8080/"
        },
        "id": "LrHRtb62AYSe",
        "outputId": "592d6d18-b70f-4290-f561-446118491a12"
      },
      "execution_count": 13,
      "outputs": [
        {
          "output_type": "stream",
          "name": "stdout",
          "text": [
            "The second element is: b\n"
          ]
        }
      ]
    },
    {
      "cell_type": "code",
      "source": [
        "# 10. Write a code to reverse the list [10, 20, 30, 40, 50].\n",
        "\n",
        " # Define the list\n",
        "my_list = [10, 20, 30, 40, 50]\n",
        "\n",
        "# Reverse the list\n",
        "my_list.reverse()\n",
        "\n",
        "# Print the reversed list\n",
        "print(\"Reversed list:\", my_list)\n"
      ],
      "metadata": {
        "colab": {
          "base_uri": "https://localhost:8080/"
        },
        "id": "bfzzIRsoAYXV",
        "outputId": "7e187ac5-48a2-4a61-99c6-d87e3827bb8f"
      },
      "execution_count": 14,
      "outputs": [
        {
          "output_type": "stream",
          "name": "stdout",
          "text": [
            "Reversed list: [50, 40, 30, 20, 10]\n"
          ]
        }
      ]
    },
    {
      "cell_type": "code",
      "source": [
        "# 11. Write a code to create a tuple with the elements 100, 200, 300 and print it.\n",
        "\n",
        " # Create the tuple\n",
        "my_tuple = (100, 200, 300)\n",
        "\n",
        "# Print the tuple\n",
        "print(\"The tuple is:\", my_tuple)\n"
      ],
      "metadata": {
        "colab": {
          "base_uri": "https://localhost:8080/"
        },
        "id": "WbmbBEITAYc2",
        "outputId": "67da1141-03df-4bdf-87a9-b21e1ccb4aa2"
      },
      "execution_count": 15,
      "outputs": [
        {
          "output_type": "stream",
          "name": "stdout",
          "text": [
            "The tuple is: (100, 200, 300)\n"
          ]
        }
      ]
    },
    {
      "cell_type": "code",
      "source": [
        "# 12. Write a code to access the second-to-last element of the tuple ('red', 'green', 'blue', 'yellow').\n",
        "\n",
        " # Define the tuple\n",
        "my_tuple = ('red', 'green', 'blue', 'yellow')\n",
        "\n",
        "# Access the second-to-last element\n",
        "second_to_last = my_tuple[-2]\n",
        "\n",
        "# Print the second-to-last element\n",
        "print(\"The second-to-last element is:\", second_to_last)\n"
      ],
      "metadata": {
        "colab": {
          "base_uri": "https://localhost:8080/"
        },
        "id": "mMLGveOvAYf0",
        "outputId": "ec1cdfae-1bf1-4789-b4f2-2a8894797648"
      },
      "execution_count": 16,
      "outputs": [
        {
          "output_type": "stream",
          "name": "stdout",
          "text": [
            "The second-to-last element is: blue\n"
          ]
        }
      ]
    },
    {
      "cell_type": "code",
      "source": [
        "# 13. Write a code to find the minimum number in the tuple (10, 20, 5, 15).\n",
        "\n",
        " # Define the tuple\n",
        "my_tuple = (10, 20, 5, 15)\n",
        "\n",
        "# Find the minimum number in the tuple\n",
        "min_number = min(my_tuple)\n",
        "\n",
        "# Print the minimum number\n",
        "print(\"The minimum number is:\", min_number)\n"
      ],
      "metadata": {
        "colab": {
          "base_uri": "https://localhost:8080/"
        },
        "id": "myvE7owjAYi-",
        "outputId": "7bad9371-da94-4d87-c19b-ff56ad8fb6fb"
      },
      "execution_count": 17,
      "outputs": [
        {
          "output_type": "stream",
          "name": "stdout",
          "text": [
            "The minimum number is: 5\n"
          ]
        }
      ]
    },
    {
      "cell_type": "code",
      "source": [
        "# 14. Write a code to find the index of the element \"cat\" in the tuple ('dog', 'cat', 'rabbit').\n",
        "\n",
        " # Define the tuple\n",
        "my_tuple = ('dog', 'cat', 'rabbit')\n",
        "\n",
        "# Find the index of the element \"cat\"\n",
        "index_of_cat = my_tuple.index('cat')\n",
        "\n",
        "# Print the index of \"cat\"\n",
        "print(\"The index of 'cat' is:\", index_of_cat)\n"
      ],
      "metadata": {
        "colab": {
          "base_uri": "https://localhost:8080/"
        },
        "id": "9H1xoW4oAYmt",
        "outputId": "6f0624c2-3201-48b8-bf33-36eaac131095"
      },
      "execution_count": 18,
      "outputs": [
        {
          "output_type": "stream",
          "name": "stdout",
          "text": [
            "The index of 'cat' is: 1\n"
          ]
        }
      ]
    },
    {
      "cell_type": "code",
      "source": [
        "# 15. Write a code to create a tuple containing three different fruits and check if \"kiwi\" is in it.\n",
        "\n",
        " # Create the tuple with three different fruits\n",
        "fruits_tuple = ('apple', 'banana', 'cherry')\n",
        "\n",
        "# Check if \"kiwi\" is in the tuple\n",
        "is_kiwi_in_tuple = 'kiwi' in fruits_tuple\n",
        "\n",
        "# Print the result\n",
        "print(\"Is 'kiwi' in the tuple?\", is_kiwi_in_tuple)\n",
        "\n",
        ""
      ],
      "metadata": {
        "colab": {
          "base_uri": "https://localhost:8080/"
        },
        "id": "1BcjLnt5AYsL",
        "outputId": "59a9f04a-afab-4aa2-d561-45421bab1ebc"
      },
      "execution_count": 21,
      "outputs": [
        {
          "output_type": "stream",
          "name": "stdout",
          "text": [
            "Is 'kiwi' in the tuple? False\n"
          ]
        }
      ]
    },
    {
      "cell_type": "code",
      "source": [
        "# 16. Write a code to create a set with the elements 'a', 'b', 'c' and print it.\n",
        "\n",
        " # Create the set with elements 'a', 'b', 'c'\n",
        "my_set = {'a', 'b', 'c'}\n",
        "\n",
        "# Print the set\n",
        "print(\"The set is:\", my_set)\n"
      ],
      "metadata": {
        "colab": {
          "base_uri": "https://localhost:8080/"
        },
        "id": "-HFwR9zfAYwH",
        "outputId": "e3d1eece-3203-412e-f4e0-e39ab90397ca"
      },
      "execution_count": 22,
      "outputs": [
        {
          "output_type": "stream",
          "name": "stdout",
          "text": [
            "The set is: {'b', 'a', 'c'}\n"
          ]
        }
      ]
    },
    {
      "cell_type": "code",
      "source": [
        "# 17. Write a code to clear all elements from the set {1, 2, 3, 4, 5}.\n",
        "\n",
        " # Create the set with elements 1, 2, 3, 4, 5\n",
        "my_set = {1, 2, 3, 4, 5}\n",
        "\n",
        "# Clear all elements from the set\n",
        "my_set.clear()\n",
        "\n",
        "# Print the set after clearing\n",
        "print(\"The set after clearing:\", my_set)\n",
        "\n"
      ],
      "metadata": {
        "colab": {
          "base_uri": "https://localhost:8080/"
        },
        "id": "fNhbDToPAYy0",
        "outputId": "80442c7f-294d-46db-986c-5429c8a63ca3"
      },
      "execution_count": 23,
      "outputs": [
        {
          "output_type": "stream",
          "name": "stdout",
          "text": [
            "The set after clearing: set()\n"
          ]
        }
      ]
    },
    {
      "cell_type": "code",
      "source": [
        "# 18. Write a code to remove the element 4 from the set {1, 2, 3, 4}.\n",
        "\n",
        " # Create the set with elements 1, 2, 3, 4\n",
        "my_set = {1, 2, 3, 4}\n",
        "\n",
        "# Remove the element 4 from the set\n",
        "my_set.remove(4)\n",
        "\n",
        "# Print the set after removing the element\n",
        "print(\"The set after removing 4:\", my_set)\n",
        "\n"
      ],
      "metadata": {
        "colab": {
          "base_uri": "https://localhost:8080/"
        },
        "id": "U3rgxr18AY1p",
        "outputId": "e9ada1b5-9732-4f63-b959-1193995dfd76"
      },
      "execution_count": 24,
      "outputs": [
        {
          "output_type": "stream",
          "name": "stdout",
          "text": [
            "The set after removing 4: {1, 2, 3}\n"
          ]
        }
      ]
    },
    {
      "cell_type": "code",
      "source": [
        "# 19. Write a code to find the union of two sets {1, 2, 3} and {3, 4, 5}.\n",
        "\n",
        " # Define the two sets\n",
        "set1 = {1, 2, 3}\n",
        "set2 = {3, 4, 5}\n",
        "\n",
        "# Find the union of the two sets\n",
        "union_set = set1.union(set2)\n",
        "\n",
        "# Print the union of the sets\n",
        "print(\"The union of the two sets is:\", union_set)\n",
        "\n"
      ],
      "metadata": {
        "colab": {
          "base_uri": "https://localhost:8080/"
        },
        "id": "EZdcrEwXAY40",
        "outputId": "9bb87e4f-d4ee-4ed3-fe23-59805cfa6b84"
      },
      "execution_count": 25,
      "outputs": [
        {
          "output_type": "stream",
          "name": "stdout",
          "text": [
            "The union of the two sets is: {1, 2, 3, 4, 5}\n"
          ]
        }
      ]
    },
    {
      "cell_type": "code",
      "source": [
        "# 20. Write a code to find the intersection of two sets {1, 2, 3} and {2, 3, 4}.\n",
        "\n",
        " # Define the two sets\n",
        "set1 = {1, 2, 3}\n",
        "set2 = {2, 3, 4}\n",
        "\n",
        "# Find the intersection of the two sets\n",
        "intersection_set = set1.intersection(set2)\n",
        "\n",
        "# Print the intersection of the sets\n",
        "print(\"The intersection of the two sets is:\", intersection_set)\n",
        "\n"
      ],
      "metadata": {
        "colab": {
          "base_uri": "https://localhost:8080/"
        },
        "id": "hZQYyR7HAY80",
        "outputId": "2fd33215-16ff-444a-841c-f290b7e3c116"
      },
      "execution_count": 26,
      "outputs": [
        {
          "output_type": "stream",
          "name": "stdout",
          "text": [
            "The intersection of the two sets is: {2, 3}\n"
          ]
        }
      ]
    },
    {
      "cell_type": "code",
      "source": [
        "# 21. Write a code to create a dictionary with the keys \"name\", \"age\", and \"city\", and print it.\n",
        "\n",
        " # Creating the dictionary\n",
        "person = {\n",
        "    \"name\": \"John Doe\",\n",
        "    \"age\": 30,\n",
        "    \"city\": \"New York\"\n",
        "}\n",
        "\n",
        "# Printing the dictionary\n",
        "print(person)\n"
      ],
      "metadata": {
        "colab": {
          "base_uri": "https://localhost:8080/"
        },
        "id": "H2YhP1ulAZAd",
        "outputId": "86a28d1d-e5fd-45fb-a7cb-06e04e013864"
      },
      "execution_count": 27,
      "outputs": [
        {
          "output_type": "stream",
          "name": "stdout",
          "text": [
            "{'name': 'John Doe', 'age': 30, 'city': 'New York'}\n"
          ]
        }
      ]
    },
    {
      "cell_type": "code",
      "source": [
        "# 22.  Write a code to add a new key-value pair \"country\": \"USA\" to the dictionary {'name': 'John', 'age': 25}. result.(replaced)\n",
        "\n",
        " # Existing dictionary\n",
        "person = {'name': 'John', 'age': 25}\n",
        "\n",
        "# Adding a new key-value pair\n",
        "person[\"country\"] = \"USA\"\n",
        "\n",
        "# Printing the updated dictionary\n",
        "print(person)\n"
      ],
      "metadata": {
        "colab": {
          "base_uri": "https://localhost:8080/"
        },
        "id": "J9eT5xaQAZC-",
        "outputId": "3b56f3a7-d415-4142-9343-783fadb634fc"
      },
      "execution_count": 28,
      "outputs": [
        {
          "output_type": "stream",
          "name": "stdout",
          "text": [
            "{'name': 'John', 'age': 25, 'country': 'USA'}\n"
          ]
        }
      ]
    },
    {
      "cell_type": "code",
      "source": [
        "# 23. Write a code to access the value associated with the key \"name\" in the dictionary {'name': 'Alice', 'age': 30}.\n",
        "\n",
        " # Dictionary\n",
        "person = {'name': 'Alice', 'age': 30}\n",
        "\n",
        "# Accessing the value associated with the key \"name\"\n",
        "name_value = person[\"name\"]\n",
        "\n",
        "# Printing the value\n",
        "print(name_value)\n"
      ],
      "metadata": {
        "colab": {
          "base_uri": "https://localhost:8080/"
        },
        "id": "TWruHkkKAZFW",
        "outputId": "7f90c26b-1bb7-4ad1-ce87-0686f4fc3ce0"
      },
      "execution_count": 29,
      "outputs": [
        {
          "output_type": "stream",
          "name": "stdout",
          "text": [
            "Alice\n"
          ]
        }
      ]
    },
    {
      "cell_type": "code",
      "source": [
        "# 24.  Write a code to remove the key \"age\" from the dictionary {'name': 'Bob', 'age': 22, 'city': 'New York'}.\n",
        "\n",
        " # Dictionary\n",
        "person = {'name': 'Bob', 'age': 22, 'city': 'New York'}\n",
        "\n",
        "# Removing the key \"age\"\n",
        "del person[\"age\"]\n",
        "\n",
        "# Printing the updated dictionary\n",
        "print(person)\n"
      ],
      "metadata": {
        "colab": {
          "base_uri": "https://localhost:8080/"
        },
        "id": "As31pShfAZKD",
        "outputId": "05beaef0-71c7-4978-bb26-e90874484a98"
      },
      "execution_count": 30,
      "outputs": [
        {
          "output_type": "stream",
          "name": "stdout",
          "text": [
            "{'name': 'Bob', 'city': 'New York'}\n"
          ]
        }
      ]
    },
    {
      "cell_type": "code",
      "source": [
        "# 25.  Write a code to check if the key \"city\" exists in the dictionary {'name': 'Alice', 'city': 'Paris'}.\n",
        "\n",
        " # Dictionary\n",
        "person = {'name': 'Alice', 'city': 'Paris'}\n",
        "\n",
        "# Checking if the key \"city\" exists in the dictionary\n",
        "if \"city\" in person:\n",
        "    print(\"The key 'city' exists in the dictionary.\")\n",
        "else:\n",
        "    print(\"The key 'city' does not exist in the dictionary.\")\n"
      ],
      "metadata": {
        "colab": {
          "base_uri": "https://localhost:8080/"
        },
        "id": "sLdmy5QpAZNF",
        "outputId": "fdfe8430-4272-47a7-e4bc-359d54f66d06"
      },
      "execution_count": 37,
      "outputs": [
        {
          "output_type": "stream",
          "name": "stdout",
          "text": [
            "The key 'city' exists in the dictionary.\n"
          ]
        }
      ]
    },
    {
      "cell_type": "code",
      "source": [
        "# 26. Write a code to create a list, a tuple, and a dictionary, and print them all.\n",
        "\n",
        " # Creating a list\n",
        "my_list = [1, 2, 3, 4, 5]\n",
        "\n",
        "# Creating a tuple\n",
        "my_tuple = (10, 20, 30, 40)\n",
        "\n",
        "# Creating a dictionary\n",
        "my_dict = {'name': 'John', 'age': 25, 'city': 'New York'}\n",
        "\n",
        "# Printing the list, tuple, and dictionary\n",
        "print(\"List:\", my_list)\n",
        "print(\"Tuple:\", my_tuple)\n",
        "print(\"Dictionary:\", my_dict)\n",
        "\n"
      ],
      "metadata": {
        "colab": {
          "base_uri": "https://localhost:8080/"
        },
        "id": "PIFMm3IMAZP8",
        "outputId": "c8ddac56-1a95-43b6-f45a-a10742cd2875"
      },
      "execution_count": 36,
      "outputs": [
        {
          "output_type": "stream",
          "name": "stdout",
          "text": [
            "List: [1, 2, 3, 4, 5]\n",
            "Tuple: (10, 20, 30, 40)\n",
            "Dictionary: {'name': 'John', 'age': 25, 'city': 'New York'}\n"
          ]
        }
      ]
    },
    {
      "cell_type": "code",
      "source": [
        "# 27. Write a code to create a list of 5 random numbers between 1 and 100, sort it in ascending order, and print the result.(replaced)\n",
        "\n",
        "import random\n",
        "\n",
        "# Creating a list of 5 random numbers between 1 and 100\n",
        "random_numbers = random.sample(range(1, 101), 5)\n",
        "\n",
        "# Sorting the list in ascending order\n",
        "random_numbers.sort()\n",
        "\n",
        "# Printing the sorted list\n",
        "print(\"Sorted List:\", random_numbers)\n",
        "\n"
      ],
      "metadata": {
        "colab": {
          "base_uri": "https://localhost:8080/"
        },
        "id": "2K9Rr4GkAZS2",
        "outputId": "28bcb110-e475-4840-9653-3b2743c88368"
      },
      "execution_count": 39,
      "outputs": [
        {
          "output_type": "stream",
          "name": "stdout",
          "text": [
            "Sorted List: [12, 60, 64, 88, 97]\n"
          ]
        }
      ]
    },
    {
      "cell_type": "code",
      "source": [
        "# 28.Write a code to create a list with strings and print the element at the third index.\n",
        "\n",
        " # Creating a list with strings\n",
        "my_list = [\"apple\", \"banana\", \"cherry\", \"date\", \"elderberry\"]\n",
        "\n",
        "# Printing the element at the third index (4th element)\n",
        "print(\"Element at index 3:\", my_list[3])\n"
      ],
      "metadata": {
        "colab": {
          "base_uri": "https://localhost:8080/"
        },
        "id": "zFhVi-P0AZV8",
        "outputId": "e6f9d66a-05c8-4be2-fe95-9357fbae4f58"
      },
      "execution_count": 33,
      "outputs": [
        {
          "output_type": "stream",
          "name": "stdout",
          "text": [
            "Element at index 3: date\n"
          ]
        }
      ]
    },
    {
      "cell_type": "code",
      "source": [
        "# 29. Write a code to combine two dictionaries into one and print the result.\n",
        "\n",
        " # Creating two dictionaries\n",
        "dict1 = {'name': 'Alice', 'age': 30}\n",
        "dict2 = {'city': 'Paris', 'country': 'France'}\n",
        "\n",
        "# Combining the dictionaries\n",
        "combined_dict = {**dict1, **dict2}\n",
        "\n",
        "# Printing the combined dictionary\n",
        "print(\"Combined Dictionary:\", combined_dict)\n",
        "\n"
      ],
      "metadata": {
        "colab": {
          "base_uri": "https://localhost:8080/"
        },
        "id": "1P0F1ZhOAZYt",
        "outputId": "aaab9b5f-7156-45a7-b852-5988a9178d72"
      },
      "execution_count": 32,
      "outputs": [
        {
          "output_type": "stream",
          "name": "stdout",
          "text": [
            "Combined Dictionary: {'name': 'Alice', 'age': 30, 'city': 'Paris', 'country': 'France'}\n"
          ]
        }
      ]
    },
    {
      "cell_type": "code",
      "source": [
        "# 30. Write a code to convert a list of strings into a set.\n",
        "\n",
        " # Creating a list of strings\n",
        "my_list = [\"apple\", \"banana\", \"cherry\", \"apple\", \"banana\"]\n",
        "\n",
        "# Converting the list to a set (removes duplicates)\n",
        "my_set = set(my_list)\n",
        "\n",
        "# Printing the set\n",
        "print(\"Converted Set:\", my_set)\n"
      ],
      "metadata": {
        "colab": {
          "base_uri": "https://localhost:8080/"
        },
        "id": "GGcJxezTAZjT",
        "outputId": "0ebc11fc-8f0f-49ac-e544-47ea7bbf62e8"
      },
      "execution_count": 31,
      "outputs": [
        {
          "output_type": "stream",
          "name": "stdout",
          "text": [
            "Converted Set: {'banana', 'apple', 'cherry'}\n"
          ]
        }
      ]
    }
  ]
}