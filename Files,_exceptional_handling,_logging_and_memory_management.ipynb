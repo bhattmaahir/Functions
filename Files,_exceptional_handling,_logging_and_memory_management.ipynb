{
  "nbformat": 4,
  "nbformat_minor": 0,
  "metadata": {
    "colab": {
      "provenance": []
    },
    "kernelspec": {
      "name": "python3",
      "display_name": "Python 3"
    },
    "language_info": {
      "name": "python"
    }
  },
  "cells": [
    {
      "cell_type": "markdown",
      "source": [
        "# Files, exceptional handling, logging and memory management.\n",
        "\n"
      ],
      "metadata": {
        "id": "X8TvR_NddF9K"
      }
    },
    {
      "cell_type": "markdown",
      "source": [
        "1. What is the difference between interpreted and compiled languages?\n",
        "\n",
        "    Interpreted languages:\n",
        "\n",
        "    Code is executed line by line, without a separate compilation step. Python is an interpreted language.\n",
        "\n",
        "    Compiled languages:\n",
        "\n",
        "    Code is translated into machine code before execution, resulting in faster execution speed. Examples include C and C++.\n",
        "\n"
      ],
      "metadata": {
        "id": "iGUKaoUbdOQG"
      }
    },
    {
      "cell_type": "markdown",
      "source": [
        "2. What is exception handling in Python?\n",
        "    \n",
        "    Exception handling is a mechanism to gracefully handle errors or runtime issues that might occur during program execution.\n",
        "    \n",
        "    It uses try, except, else, and finally blocks to catch and manage exceptions, preventing the program from crashing.\n",
        "\n"
      ],
      "metadata": {
        "id": "HSooAt6GdE9Y"
      }
    },
    {
      "cell_type": "markdown",
      "source": [
        "3. What is the purpose of the finally block in exception handling?\n",
        "    \n",
        "    The finally block executes code unconditionally, regardless of whether an exception occurred within the try block or not.\n",
        "    \n",
        "    It's often used for cleanup tasks like closing files or releasing resources."
      ],
      "metadata": {
        "id": "4PzblA5KiGOS"
      }
    },
    {
      "cell_type": "markdown",
      "source": [
        "4. What is logging in Python?\n",
        "    \n",
        "    Logging is a process of recording events, messages, and debugging information during program execution.\n",
        "    \n",
        "    Python's logging module provides a flexible way to generate log messages, categorize them by severity (DEBUG, INFO, WARNING, ERROR, CRITICAL), and direct them to various destinations like files or the console.\n"
      ],
      "metadata": {
        "id": "GSOEdzipiPxA"
      }
    },
    {
      "cell_type": "markdown",
      "source": [
        "5. What is the significance of the __del__ method in Python?\n",
        "    \n",
        "    The __del__ method (also known as the destructor) is called when an object is garbage collected.\n",
        "    \n",
        "    It's used to perform cleanup tasks like closing files or releasing other resources when an object is no longer in use.\n"
      ],
      "metadata": {
        "id": "3Uhp8a2GiP5S"
      }
    },
    {
      "cell_type": "markdown",
      "source": [
        "6. What is the difference between import and from ... import in Python?\n",
        "    \n",
        "    import: Imports an entire module, allowing access to its members through the module name (e.g., import math; math.sqrt(9)).\n",
        "\n",
        "    from ... import: Imports specific members (functions, classes, etc.) directly into the current namespace, allowing them to be accessed without the module name (e.g., from math import sqrt; sqrt(9)).\n"
      ],
      "metadata": {
        "id": "RsuLh2X7iP9S"
      }
    },
    {
      "cell_type": "markdown",
      "source": [
        "7. How can you handle multiple exceptions in Python?\n",
        "\n",
        "    We can handle multiple exceptions by including multiple except blocks, each handling a specific type of exception.\n",
        "    \n",
        "    The code within each except block will be executed only if an exception of that type occurs.\n"
      ],
      "metadata": {
        "id": "yk2OaD3IiQBg"
      }
    },
    {
      "cell_type": "markdown",
      "source": [
        "8. What is the purpose of the with statement when handling files in Python?\n",
        "    \n",
        "    The with statement provides a concise way to handle file operations, ensuring that files are automatically closed after use, even if exceptions occur.\n",
        "\n",
        "    It simplifies file management and prevents resource leaks.\n"
      ],
      "metadata": {
        "id": "F-4WPRzFiQE4"
      }
    },
    {
      "cell_type": "markdown",
      "source": [
        "9. What is the difference between multithreading and multiprocessing?\n",
        "\n",
        "    Multithreading:\n",
        "    \n",
        "    Creates multiple threads within a single process, allowing concurrent execution of tasks within the same memory space.\n",
        "\n",
        "    Multiprocessing:\n",
        "    \n",
        "    Creates multiple processes, each with its own memory space, allowing true parallel execution on multi-core processors.\n"
      ],
      "metadata": {
        "id": "M29JM8BbitlY"
      }
    },
    {
      "cell_type": "markdown",
      "source": [
        "10. What are the advantages of using logging in a program?\n",
        "\n",
        "    Logging helps in debugging, monitoring application behavior, and troubleshooting problems.\n",
        "\n",
        "    It provides a structured record of events, enabling developers to analyze program execution and identify issues efficiently.\n"
      ],
      "metadata": {
        "id": "iesfy6jhitt3"
      }
    },
    {
      "cell_type": "markdown",
      "source": [
        "11. What is memory management in Python?\n",
        "    \n",
        "    Memory management in Python refers to the process of allocating and deallocating memory for objects and data structures during program execution.\n",
        "    \n",
        "    Python's garbage collector automatically manages memory by reclaiming memory occupied by objects that are no longer in use.\n"
      ],
      "metadata": {
        "id": "6Vf8d_s9itxa"
      }
    },
    {
      "cell_type": "markdown",
      "source": [
        "12. What are the basic steps involved in exception handling in Python?\n",
        "\n",
        "    Use try block: Place code that might raise an exception within a try block.\n",
        "\n",
        "    Use except block: Handle the exception with an except block, specifying the type of exception to catch.\n",
        "\n",
        "    Use else block (optional): Execute code when no exceptions occur in the try block.\n",
        "\n",
        "    Use finally block (optional): Execute code regardless of whether an exception occurred.\n"
      ],
      "metadata": {
        "id": "iYqmbKNXit2K"
      }
    },
    {
      "cell_type": "markdown",
      "source": [
        "13. Why is memory management important in Python?\n",
        "\n",
        "    Memory management is important in Python because it directly impacts the performance, efficiency, and reliability of applications. Python relies on a built-in garbage collector to automatically manage memory, but understanding how it works and potential issues like memory leaks can help developers write more efficient code.\n"
      ],
      "metadata": {
        "id": "OPdo-lxLit5M"
      }
    },
    {
      "cell_type": "markdown",
      "source": [
        "14. What is the role of try and except in exception handling?\n",
        "\n",
        "    try and except blocks are used for exception handling. The code that might raise an exception is placed in the try block. If an exception occurs, execution jumps to the corresponding except block, which contains code to handle the exception. This allows the program to continue running gracefully even when errors occur.\n"
      ],
      "metadata": {
        "id": "_xhmFS9tit8p"
      }
    },
    {
      "cell_type": "markdown",
      "source": [
        "15. How does Python's garbage collection system work?\n",
        "\n",
        "    Python's garbage collection system uses a combination of reference counting and generational garbage collection. Reference counting tracks the number of references to an object. When an object's reference count reaches zero, the object is no longer reachable and its memory can be reclaimed. Generational garbage collection is a more sophisticated approach that divides objects into generations and collects them at different frequencies based on their age. This helps to optimize garbage collection performance.\n"
      ],
      "metadata": {
        "id": "8VF6KgAGiuAH"
      }
    },
    {
      "cell_type": "markdown",
      "source": [
        "16. What is the purpose of the else block in exception handling?\n",
        "\n",
        "    The else block in exception handling is optional and runs only if no exceptions occur in the try block. It's useful for code that should be executed when the try block completes successfully.\n"
      ],
      "metadata": {
        "id": "geMqHzMwiuC5"
      }
    },
    {
      "cell_type": "markdown",
      "source": [
        "17. What are the common logging levels in Python?\n",
        "    \n",
        "    Common logging levels in Python include: DEBUG, INFO, WARNING, ERROR, and CRITICAL. Each level represents a different severity of the log message, allowing developers to filter and prioritize log information.\n"
      ],
      "metadata": {
        "id": "4pG4w6MbiuFr"
      }
    },
    {
      "cell_type": "markdown",
      "source": [
        "18. What is the difference between os.fork() and multiprocessing in Python?\n",
        "\n",
        "    os.fork() creates a new process that is a copy of the current process. It is a low-level mechanism and works best on Unix-like systems. multiprocessing provides a higher-level interface for creating and managing processes, allowing for more flexibility and features like process pools and shared memory.\n"
      ],
      "metadata": {
        "id": "_B2ElQzQiuI9"
      }
    },
    {
      "cell_type": "markdown",
      "source": [
        "19. What is the importance of closing a file in Python?\n",
        "\n",
        "    Closing a file is important to release the resources used by the file and ensure that any changes made to the file are written to disk. Unclosed files can lead to resource leaks and data corruption.\n"
      ],
      "metadata": {
        "id": "TSMsvKEiiuMD"
      }
    },
    {
      "cell_type": "markdown",
      "source": [
        "\n",
        "20. What is the difference between file.read() and file.readline() in Python?\n",
        "\n",
        "    file.read() reads the entire contents of a file into a string, while file.readline() reads a single line of the file at a time.\n"
      ],
      "metadata": {
        "id": "XnLSXPIoiQH1"
      }
    },
    {
      "cell_type": "markdown",
      "source": [
        "21. What is the logging module in Python used for?\n",
        "\n",
        "    The logging module in Python is used for recording messages about what an application is doing during its execution. It provides a flexible framework for logging different levels of information, debugging, and troubleshooting.\n"
      ],
      "metadata": {
        "id": "q-mBn0F2j38k"
      }
    },
    {
      "cell_type": "markdown",
      "source": [
        "22. What is the os module in Python used for in file handling?\n",
        "\n",
        "    The os module in Python provides functions for interacting with the operating system, including functions related to file handling. For example, it can be used to create directories, delete files, and check file existence.\n"
      ],
      "metadata": {
        "id": "gZtRiKxvj4Ex"
      }
    },
    {
      "cell_type": "markdown",
      "source": [
        "23. What are the challenges associated with memory management in Python?\n",
        "\n",
        "    One of the main challenges associated with memory management in Python is dealing with cyclic references, where objects reference each other, preventing garbage collection from reclaiming the memory. Another challenge is optimizing memory usage in memory-intensive applications, where efficient data structures and algorithms are crucial.\n"
      ],
      "metadata": {
        "id": "ZxN6JkRyj4O-"
      }
    },
    {
      "cell_type": "markdown",
      "source": [
        "24. How do you raise an exception manually in Python?\n",
        "\n",
        "    We can raise an exception manually using the raise statement. The raise statement takes an exception class (e.g., ValueError, TypeError) as an argument and can optionally include an argument for the exception message."
      ],
      "metadata": {
        "id": "ujvJtwQij4Zc"
      }
    },
    {
      "cell_type": "markdown",
      "source": [
        "25. Why is it important to use multithreading in certain applications?\n",
        "\n",
        "    Multithreading is important in applications to improve performance, responsiveness, and resource utilization by enabling concurrent execution of tasks. It allows applications to leverage multiple CPU cores, making them more efficient and scalable, especially in scenarios like servers handling numerous client requests or applications with time-consuming operations that shouldn't block the user interface."
      ],
      "metadata": {
        "id": "oobmG_YIiQLe"
      }
    },
    {
      "cell_type": "markdown",
      "source": [
        "# Practical Questions"
      ],
      "metadata": {
        "id": "y-J1ESl-khpa"
      }
    },
    {
      "cell_type": "code",
      "source": [
        "# 1. How can you open a file for writing in Python and write a string to it?\n",
        "\n",
        "#In Python, we can open a file for writing using the built-in open() function with the mode 'w'. Then, you can write a string to the file using the .write() method. Here's a simple example:\n",
        "\n",
        "#Open the file in write mode ('w')\n",
        "with open('example.txt', 'w') as file:\n",
        "    # Write a string to the file\n",
        "    file.write('Hello, world!')\n"
      ],
      "metadata": {
        "id": "HJtEeRlMklHI"
      },
      "execution_count": 15,
      "outputs": []
    },
    {
      "cell_type": "code",
      "source": [
        "# 2. Write a Python program to read the contents of a file and print each line.\n",
        "\n",
        "with open('example.txt', 'r') as file:\n",
        "    for line in file:\n",
        "        print(line.strip())  # .strip() removes the newline character at the end\n",
        "\n"
      ],
      "metadata": {
        "colab": {
          "base_uri": "https://localhost:8080/"
        },
        "id": "nhll51VOntIH",
        "outputId": "69fd47b0-88ea-43d0-b7fc-b4788275348b"
      },
      "execution_count": 16,
      "outputs": [
        {
          "output_type": "stream",
          "name": "stdout",
          "text": [
            "Hello, world!\n"
          ]
        }
      ]
    },
    {
      "cell_type": "code",
      "source": [
        "# 3. How would you handle a case where the file doesn't exist while trying to open it for reading?\n",
        "\n",
        "try:\n",
        "    with open('non_existent_file.txt', 'r') as file:\n",
        "        content = file.read()\n",
        "        print(content)\n",
        "except FileNotFoundError:\n",
        "    print(\"The file was not found.\")\n",
        "\n"
      ],
      "metadata": {
        "colab": {
          "base_uri": "https://localhost:8080/"
        },
        "id": "K2gqY7iwnte8",
        "outputId": "b4998709-261d-4e12-fcc2-58a3eecfc1cf"
      },
      "execution_count": 17,
      "outputs": [
        {
          "output_type": "stream",
          "name": "stdout",
          "text": [
            "The file was not found.\n"
          ]
        }
      ]
    },
    {
      "cell_type": "code",
      "source": [
        "# 4. Write a Python script that reads from one file and writes its content to another file.\n",
        "# Read from 'source.txt' and write to 'destination.txt'\n",
        "\n",
        "try:\n",
        "    with open('source.txt', 'r') as source_file:\n",
        "        content = source_file.read()\n",
        "\n",
        "    with open('destination.txt', 'w') as destination_file:\n",
        "        destination_file.write(content)\n",
        "\n",
        "    print(\"File content copied successfully.\")\n",
        "except FileNotFoundError:\n",
        "    print(\"Source file not found.\")\n",
        "except Exception as e:\n",
        "    print(f\"An error occurred: {e}\")\n"
      ],
      "metadata": {
        "colab": {
          "base_uri": "https://localhost:8080/"
        },
        "id": "r-0qUlYrmzXp",
        "outputId": "3f31f2d1-0281-487f-de93-af30decc1ca9"
      },
      "execution_count": 49,
      "outputs": [
        {
          "output_type": "stream",
          "name": "stdout",
          "text": [
            "Source file not found.\n"
          ]
        }
      ]
    },
    {
      "cell_type": "code",
      "source": [
        "# 5. How would you catch and handle division by zero error in Python?\n",
        "\n",
        "try:\n",
        "    result = 10 / 0\n",
        "except ZeroDivisionError:\n",
        "    print(\"You can't divide by zero!\")\n",
        "else:\n",
        "    print(\"Result is:\", result)\n"
      ],
      "metadata": {
        "colab": {
          "base_uri": "https://localhost:8080/"
        },
        "id": "5zEdgTHDoDV3",
        "outputId": "f6b9ba6a-127f-4fe2-9177-d502a057c84b"
      },
      "execution_count": 23,
      "outputs": [
        {
          "output_type": "stream",
          "name": "stdout",
          "text": [
            "You can't divide by zero!\n"
          ]
        }
      ]
    },
    {
      "cell_type": "code",
      "source": [
        "# 6. Write a Python program that logs an error message to a log file when a division by zero exception occurs.\n",
        "\n",
        "import logging\n",
        "\n",
        "logging.basicConfig(filename='errors.log', level=logging.ERROR)\n",
        "\n",
        "try:\n",
        "    result = 10 / 0\n",
        "except ZeroDivisionError as e:\n",
        "    logging.error(\"Division by zero error: %s\", e)\n",
        "\n"
      ],
      "metadata": {
        "colab": {
          "base_uri": "https://localhost:8080/"
        },
        "id": "bIUgrYJHoDZp",
        "outputId": "d2db5d47-c0ef-45c6-f014-78caf87c1a42"
      },
      "execution_count": 24,
      "outputs": [
        {
          "output_type": "stream",
          "name": "stderr",
          "text": [
            "ERROR:root:Division by zero error: division by zero\n"
          ]
        }
      ]
    },
    {
      "cell_type": "code",
      "source": [
        "# 7. How do you log information at different levels (INFO, ERROR, WARNING) in Python using the logging module?\n",
        "\n",
        "import logging\n",
        "\n",
        "logging.basicConfig(level=logging.DEBUG)\n",
        "\n",
        "logging.info(\"This is an info message\")\n",
        "logging.warning(\"This is a warning\")\n",
        "logging.error(\"This is an error\")\n"
      ],
      "metadata": {
        "colab": {
          "base_uri": "https://localhost:8080/"
        },
        "id": "hkDWx9rzpNoS",
        "outputId": "b741d61d-9955-4c8a-d30e-79907b8ebc41"
      },
      "execution_count": 25,
      "outputs": [
        {
          "output_type": "stream",
          "name": "stderr",
          "text": [
            "WARNING:root:This is a warning\n",
            "ERROR:root:This is an error\n"
          ]
        }
      ]
    },
    {
      "cell_type": "code",
      "source": [
        "# 8. Write a program to handle a file opening error using exception handling.\n",
        "\n",
        "try:\n",
        "    with open('nonexistent.txt', 'r') as file:\n",
        "        print(file.read())\n",
        "except FileNotFoundError:\n",
        "    print(\"File not found.\")\n"
      ],
      "metadata": {
        "colab": {
          "base_uri": "https://localhost:8080/"
        },
        "id": "tudI829GpNxm",
        "outputId": "bf26eae5-7a8a-403b-940d-78b853bff85b"
      },
      "execution_count": 26,
      "outputs": [
        {
          "output_type": "stream",
          "name": "stdout",
          "text": [
            "File not found.\n"
          ]
        }
      ]
    },
    {
      "cell_type": "code",
      "source": [
        "# 9. How can you read a file line by line and store its content in a list in Python?\n",
        "\n",
        "with open('example.txt', 'r') as file:\n",
        "    lines = [line.strip() for line in file]\n",
        "print(lines)\n"
      ],
      "metadata": {
        "colab": {
          "base_uri": "https://localhost:8080/"
        },
        "id": "4a7Q1lnPpOJY",
        "outputId": "7d2e4d08-7102-4834-820d-7eed1f57821e"
      },
      "execution_count": 28,
      "outputs": [
        {
          "output_type": "stream",
          "name": "stdout",
          "text": [
            "['Hello, world!']\n"
          ]
        }
      ]
    },
    {
      "cell_type": "code",
      "source": [
        "# 10. How can you append data to an existing file in Python?\n",
        "\n",
        "with open('example.txt', 'a') as file:\n",
        "    file.write('\\nAppended text')\n"
      ],
      "metadata": {
        "id": "BhDKuMoTpOSO"
      },
      "execution_count": 30,
      "outputs": []
    },
    {
      "cell_type": "code",
      "source": [
        "# 11. Write a Python program that uses a try-except block to handle an error when attempting to access a dictionary key that doesn't exist.\n",
        "\n",
        "my_dict = {\"name\": \"Alice\"}\n",
        "try:\n",
        "    print(my_dict[\"age\"])\n",
        "except KeyError:\n",
        "    print(\"Key does not exist.\")\n"
      ],
      "metadata": {
        "colab": {
          "base_uri": "https://localhost:8080/"
        },
        "id": "k5Mm46RTpObW",
        "outputId": "56a68a12-47d0-4c9e-fb60-aff4cb204f54"
      },
      "execution_count": 31,
      "outputs": [
        {
          "output_type": "stream",
          "name": "stdout",
          "text": [
            "Key does not exist.\n"
          ]
        }
      ]
    },
    {
      "cell_type": "code",
      "source": [
        "# 12. Write a program that demonstrates using multiple except blocks to handle different types of exceptions.\n",
        "\n",
        "try:\n",
        "    value = [1, 2][5]\n",
        "    num = int(\"abc\")\n",
        "except IndexError:\n",
        "    print(\"Index error!\")\n",
        "except ValueError:\n",
        "    print(\"Value error!\")\n"
      ],
      "metadata": {
        "colab": {
          "base_uri": "https://localhost:8080/"
        },
        "id": "5yPCZELRpOjD",
        "outputId": "5bfb71d5-bbf8-4705-e555-8db6a6b0ee4f"
      },
      "execution_count": 32,
      "outputs": [
        {
          "output_type": "stream",
          "name": "stdout",
          "text": [
            "Index error!\n"
          ]
        }
      ]
    },
    {
      "cell_type": "code",
      "source": [
        "# 13. How would you check if a file exists before attempting to read it in Python?\n",
        "\n",
        "import os\n",
        "\n",
        "if os.path.exists(\"example.txt\"):\n",
        "    with open(\"example.txt\", 'r') as file:\n",
        "        print(file.read())\n",
        "else:\n",
        "    print(\"File does not exist.\")\n"
      ],
      "metadata": {
        "colab": {
          "base_uri": "https://localhost:8080/"
        },
        "id": "ZDqGV9XUpOrW",
        "outputId": "2583af30-8949-4152-b03c-c37094dc5071"
      },
      "execution_count": 33,
      "outputs": [
        {
          "output_type": "stream",
          "name": "stdout",
          "text": [
            "Hello, world!\n",
            "Appended text\n",
            "Appended text\n"
          ]
        }
      ]
    },
    {
      "cell_type": "code",
      "source": [
        "# 14. Write a program that uses the logging module to log both informational and error messages.\n",
        "\n",
        "import logging\n",
        "\n",
        "logging.basicConfig(filename='app.log', level=logging.INFO)\n",
        "logging.info(\"Program started\")\n",
        "try:\n",
        "    1 / 0\n",
        "except ZeroDivisionError:\n",
        "    logging.error(\"Attempted division by zero.\")\n"
      ],
      "metadata": {
        "colab": {
          "base_uri": "https://localhost:8080/"
        },
        "id": "FB2Le0FmpO36",
        "outputId": "87c371fb-8c01-4936-b2f5-73392e0db830"
      },
      "execution_count": 34,
      "outputs": [
        {
          "output_type": "stream",
          "name": "stderr",
          "text": [
            "ERROR:root:Attempted division by zero.\n"
          ]
        }
      ]
    },
    {
      "cell_type": "code",
      "source": [
        "# 15. Write a Python program that prints the content of a file and handles the case when the file is empty.\n",
        "\n",
        "with open('example.txt', 'r') as file:\n",
        "    content = file.read()\n",
        "    if content:\n",
        "        print(content)\n",
        "    else:\n",
        "        print(\"The file is empty.\")\n"
      ],
      "metadata": {
        "colab": {
          "base_uri": "https://localhost:8080/"
        },
        "id": "1QXZo1RqpPBZ",
        "outputId": "5a5f7618-fe72-4c74-840f-e3054fdd643e"
      },
      "execution_count": 35,
      "outputs": [
        {
          "output_type": "stream",
          "name": "stdout",
          "text": [
            "Hello, world!\n",
            "Appended text\n",
            "Appended text\n"
          ]
        }
      ]
    },
    {
      "cell_type": "code",
      "source": [
        "# 17. Write a Python program to create and write a list of numbers to a file, one number per line.\n",
        "\n",
        "numbers = [1, 2, 3, 4, 5]\n",
        "with open('numbers.txt', 'w') as file:\n",
        "    for number in numbers:\n",
        "        file.write(f\"{number}\\n\")\n"
      ],
      "metadata": {
        "id": "E8Qtw2mIpPSD"
      },
      "execution_count": 38,
      "outputs": []
    },
    {
      "cell_type": "code",
      "source": [
        "# 18. How would you implement a basic logging setup that logs to a file with rotation after 1MB?\n",
        "\n",
        "import logging\n",
        "from logging.handlers import RotatingFileHandler\n",
        "\n",
        "handler = RotatingFileHandler('rotating.log', maxBytes=1_000_000, backupCount=5)\n",
        "logging.basicConfig(handlers=[handler], level=logging.INFO)\n",
        "logging.info(\"This is a log message.\")\n"
      ],
      "metadata": {
        "id": "aHelRqZ0pPaf"
      },
      "execution_count": 39,
      "outputs": []
    },
    {
      "cell_type": "code",
      "source": [
        "# 19. Write a program that handles both IndexError and KeyError using a try-except blockF.\n",
        "\n",
        "try:\n",
        "    my_list = [1, 2]\n",
        "    print(my_list[5])\n",
        "    my_dict = {}\n",
        "    print(my_dict['missing'])\n",
        "except IndexError:\n",
        "    print(\"Index out of range.\")\n",
        "except KeyError:\n",
        "    print(\"Key not found.\")\n"
      ],
      "metadata": {
        "colab": {
          "base_uri": "https://localhost:8080/"
        },
        "id": "KpdKQU_noDdv",
        "outputId": "ee69c373-63d6-41fe-badf-daed2d5e8bc3"
      },
      "execution_count": 40,
      "outputs": [
        {
          "output_type": "stream",
          "name": "stdout",
          "text": [
            "Index out of range.\n"
          ]
        }
      ]
    },
    {
      "cell_type": "code",
      "source": [
        "# 20. How would you open a file and read its contents using a context manager in Python?\n",
        "\n",
        "with open('example.txt', 'r') as file:\n",
        "    content = file.read()\n",
        "    print(content)\n"
      ],
      "metadata": {
        "colab": {
          "base_uri": "https://localhost:8080/"
        },
        "id": "xjYaRAkPoDgx",
        "outputId": "2d48a5a7-79c6-41b4-8621-8f989534442c"
      },
      "execution_count": 41,
      "outputs": [
        {
          "output_type": "stream",
          "name": "stdout",
          "text": [
            "Hello, world!\n",
            "Appended text\n",
            "Appended text\n"
          ]
        }
      ]
    },
    {
      "cell_type": "code",
      "source": [
        "# 21. Write a Python program that reads a file and prints the number of occurrences of a specific word.\n",
        "\n",
        "word_to_count = \"python\"\n",
        "with open('example.txt', 'r') as file:\n",
        "    content = file.read().lower()\n",
        "    count = content.count(word_to_count.lower())\n",
        "    print(f\"'{word_to_count}' found {count} times.\")\n"
      ],
      "metadata": {
        "colab": {
          "base_uri": "https://localhost:8080/"
        },
        "id": "ORY5BFspoDjz",
        "outputId": "564f34dd-76db-4b88-efba-9a84ddf1e9f5"
      },
      "execution_count": 42,
      "outputs": [
        {
          "output_type": "stream",
          "name": "stdout",
          "text": [
            "'python' found 0 times.\n"
          ]
        }
      ]
    },
    {
      "cell_type": "code",
      "source": [
        "# 22. How can you check if a file is empty before attempting to read its contents?\n",
        "\n",
        "import os\n",
        "\n",
        "if os.path.getsize(\"example.txt\") == 0:\n",
        "    print(\"File is empty.\")\n",
        "else:\n",
        "    with open(\"example.txt\", \"r\") as file:\n",
        "        print(file.read())\n"
      ],
      "metadata": {
        "colab": {
          "base_uri": "https://localhost:8080/"
        },
        "id": "84L_TVM5oDni",
        "outputId": "fe17b79f-9779-435f-e107-406e8f8ac947"
      },
      "execution_count": 43,
      "outputs": [
        {
          "output_type": "stream",
          "name": "stdout",
          "text": [
            "Hello, world!\n",
            "Appended text\n",
            "Appended text\n"
          ]
        }
      ]
    },
    {
      "cell_type": "code",
      "source": [
        "# 23. Write a Python program that writes to a log file when an error occurs during file handling.\n",
        "\n",
        "import logging\n",
        "\n",
        "logging.basicConfig(filename='file_errors.log', level=logging.ERROR)\n",
        "\n",
        "try:\n",
        "    with open('missing.txt', 'r') as file:\n",
        "        content = file.read()\n",
        "except Exception as e:\n",
        "    logging.error(\"Error reading file: %s\", e)\n"
      ],
      "metadata": {
        "colab": {
          "base_uri": "https://localhost:8080/"
        },
        "id": "DymiCkrOoDq2",
        "outputId": "fc1bad11-64ae-49e5-9bc8-88ca770865e0"
      },
      "execution_count": 44,
      "outputs": [
        {
          "output_type": "stream",
          "name": "stderr",
          "text": [
            "ERROR:root:Error reading file: [Errno 2] No such file or directory: 'missing.txt'\n"
          ]
        }
      ]
    }
  ]
}