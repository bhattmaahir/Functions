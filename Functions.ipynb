{
  "nbformat": 4,
  "nbformat_minor": 0,
  "metadata": {
    "colab": {
      "provenance": []
    },
    "kernelspec": {
      "name": "python3",
      "display_name": "Python 3"
    },
    "language_info": {
      "name": "python"
    }
  },
  "cells": [
    {
      "cell_type": "markdown",
      "source": [],
      "metadata": {
        "id": "PAnUwUnkTMla"
      }
    },
    {
      "cell_type": "markdown",
      "source": [
        "# Theory Questions"
      ],
      "metadata": {
        "id": "1H1rCgSiTSN-"
      }
    },
    {
      "cell_type": "markdown",
      "source": [
        "1. What is the difference between a function and a method in Python?\n",
        "\n",
        "   In Python, a function is a block of reusable code that performs a specific task and can be called independently. It is defined using the def keyword. A method, on the other hand, is a function that is associated with an object, typically belonging to a class. While functions are called by their name, methods are called using the syntax object.method(), where the method operates on the data contained within the object. For example, len() is a function, and list.append() is a method of the list class."
      ],
      "metadata": {
        "id": "0BLQhp0jTW_l"
      }
    },
    {
      "cell_type": "markdown",
      "source": [
        "2. Explain the concept of function arguments and parameters in Python.\n",
        "\n",
        "    In Python, a parameter is a variable that is defined in the function signature, while an argument is the actual value passed to the function when it is called. Parameters act as placeholders for the values, whereas arguments are the real data provided to the function. For example, in the function def add(a, b):, a and b are parameters, and when calling add(2, 3), 2 and 3 are arguments."
      ],
      "metadata": {
        "id": "KjumAS53UdQm"
      }
    },
    {
      "cell_type": "markdown",
      "source": [
        "3. What are the different ways to define and call a function in Python?\n",
        "   \n",
        "    In Python, a function can be defined using the def keyword, followed by a function name and parentheses containing parameters. A function is called by writing its name followed by arguments in parentheses. For example, defining a function: def greet(name): and calling it: greet(\"Alice\"). Functions can also be defined anonymously using lambda expressions, like lambda x: x + 1, and called directly.\n"
      ],
      "metadata": {
        "id": "CkBvOuZUUV6r"
      }
    },
    {
      "cell_type": "markdown",
      "source": [
        "4. What is the purpose of the return statement in a Python function?\n",
        "    \n",
        "    The return statement in Python is used to exit a function and optionally pass a value back to the caller. It allows a function to send back a result that can be used further in the program. For example, def add(a, b): return a + b will return the sum of a and b when the function is called."
      ],
      "metadata": {
        "id": "kIHFrp7VUV-F"
      }
    },
    {
      "cell_type": "markdown",
      "source": [
        "5. What are iterators in Python and how do they differ from iterables?\n",
        "\n",
        "    An iterable is an object in Python that can be iterated over, such as a list, tuple, or dictionary. It implements the __iter__() method, allowing it to be looped through with a for-loop. An iterator is an object that represents a stream of data and implements both __iter__() and __next__() methods. While iterables can be looped over, iterators keep track of the current position during iteration and return the next item when next() is called."
      ],
      "metadata": {
        "id": "F-8ktVKjUWBe"
      }
    },
    {
      "cell_type": "markdown",
      "source": [
        "6. Explain the concept of generators in Python and how they are defined.\n",
        "\n",
        "    Generators in Python are a type of iterable that allow you to iterate over a sequence of values lazily, generating items only when needed. They are defined using a function with the yield keyword instead of return. Each call to yield produces the next value, and when the function is called again, it resumes from the last yielded value. Example: def count_up_to(max): count = 1; while count <= max: yield count; count += 1."
      ],
      "metadata": {
        "id": "KFE4g4oFUWEe"
      }
    },
    {
      "cell_type": "markdown",
      "source": [
        "7. What are the advantages of using generators over regular functions?\n",
        "\n",
        "    Generators provide several advantages over regular functions, such as reduced memory usage, as they generate values on the fly instead of holding them all in memory. This is especially useful for working with large datasets or infinite sequences. Additionally, generators allow for lazy evaluation, where the computation happens only when the value is needed, which can improve performance."
      ],
      "metadata": {
        "id": "2P4oy4aeUWIJ"
      }
    },
    {
      "cell_type": "markdown",
      "source": [
        "8. What is a lambda function in Python and when is it typically used?\n",
        "\n",
        "    A lambda function is an anonymous function in Python, defined using the lambda keyword. It can have any number of parameters but only one expression. Lambda functions are typically used for short, throwaway operations, such as when passing a simple function as an argument to another function. For example, add = lambda x, y: x + y defines a lambda function that adds two numbers."
      ],
      "metadata": {
        "id": "3I2ycDBiUWKd"
      }
    },
    {
      "cell_type": "markdown",
      "source": [
        "9. Explain the purpose and usage of the map() function in Python.\n",
        "\n",
        "    The map() function in Python is used to apply a function to all the items in an iterable, such as a list or tuple, and returns an iterator with the results. It takes two arguments: the function to apply and the iterable. For example, map(str, [1, 2, 3]) converts the integers in the list to strings, resulting in ['1', '2', '3']."
      ],
      "metadata": {
        "id": "34zsYqtOUWRj"
      }
    },
    {
      "cell_type": "markdown",
      "source": [
        "10. What is the difference between map(), reduce(), and filter() functions in Python?\n",
        "\n",
        "    map(), reduce(), and filter(): map(), reduce(), and filter() are all functions in Python used for processing iterables but with different behaviors. map() applies a function to each item in an iterable and returns an iterator. filter() filters the iterable by applying a function that returns a boolean value, returning only the items for which the function is True. reduce(), from the functools module, applies a binary function cumulatively to the items in an iterable, reducing the iterable to a single value. For example, map() could be used to square numbers, filter() to select even numbers, and reduce() to calculate the sum of numbers."
      ],
      "metadata": {
        "id": "tuEiYE0VVHIr"
      }
    },
    {
      "cell_type": "markdown",
      "source": [
        "11. Using pen & Paper write the internal mechanism for sum operation using reduce function on this given\n",
        "    \n",
        "    list:[47,11,42,13];\n",
        "    \n",
        "\n",
        "    (https://drive.google.com/file/d/1hB0R9qpKl7MPYFxWt8hWUwVa0yYpQMBa/view?usp=drive_link)\n",
        "\n",
        "\n",
        "\n",
        "    \n"
      ],
      "metadata": {
        "id": "k51-MYazVHV-"
      }
    },
    {
      "cell_type": "markdown",
      "source": [
        "# Practical Questions"
      ],
      "metadata": {
        "id": "AByaoA7bdjv8"
      }
    },
    {
      "cell_type": "code",
      "source": [
        "# 1. Write a Python function that takes a list of numbers as input and returns the sum of all even numbers in the list.\n",
        "\n",
        "numbers = [47, 11, 42, 13, 8, 18]\n",
        "result = sum_of_even_numbers(numbers)\n",
        "print(result)\n",
        "\n"
      ],
      "metadata": {
        "colab": {
          "base_uri": "https://localhost:8080/"
        },
        "id": "s5O5yRSBfxJo",
        "outputId": "f0d89ec0-c636-4aae-c2b4-6363dfce789e"
      },
      "execution_count": 20,
      "outputs": [
        {
          "output_type": "stream",
          "name": "stdout",
          "text": [
            "68\n"
          ]
        }
      ]
    },
    {
      "cell_type": "code",
      "source": [
        "# 2. Create a Python function that accepts a string and returns the reverse of that string.\n",
        "\n",
        "input_string = \"Hello, World!\"\n",
        "reversed_string = reverse_string(input_string)\n",
        "print(reversed_string)"
      ],
      "metadata": {
        "colab": {
          "base_uri": "https://localhost:8080/"
        },
        "id": "hPuWsQeDfxNJ",
        "outputId": "259b0881-aaf7-40d6-d4ca-223f390e0fdc"
      },
      "execution_count": 19,
      "outputs": [
        {
          "output_type": "stream",
          "name": "stdout",
          "text": [
            "!dlroW ,olleH\n"
          ]
        }
      ]
    },
    {
      "cell_type": "code",
      "source": [
        "# 3. Implement a Python function that takes a list of integers and returns a new list containing the squares of each number.\n",
        "\n",
        "def square_numbers(numbers):\n",
        "    return [num ** 2 for num in numbers]\n",
        "\n",
        "# Example:\n",
        "numbers = [1, 2, 3, 4, 5]\n",
        "squared_numbers = square_numbers(numbers)\n",
        "print(squared_numbers)"
      ],
      "metadata": {
        "colab": {
          "base_uri": "https://localhost:8080/"
        },
        "id": "fELXgL2qfxRE",
        "outputId": "c99b72af-ffcd-4665-d3b2-ee8faada6c53"
      },
      "execution_count": 28,
      "outputs": [
        {
          "output_type": "stream",
          "name": "stdout",
          "text": [
            "[1, 4, 9, 16, 25]\n"
          ]
        }
      ]
    },
    {
      "cell_type": "code",
      "source": [
        "#4. Write a Python function that checks if a given number is prime or not from 1 to 200.\n",
        "\n",
        "def is_prime(n):\n",
        "    if n <= 1:\n",
        "        return False\n",
        "    for i in range(2, int(n ** 0.5) + 1):  # Only check divisibility up to the square root of n\n",
        "        if n % i == 0:\n",
        "            return False\n",
        "    return True\n",
        "\n",
        "def check_primes_in_range():\n",
        "    primes = []\n",
        "    for num in range(1, 201):\n",
        "        if is_prime(num):\n",
        "            primes.append(num)\n",
        "    return primes\n",
        "\n",
        "# Example:\n",
        "\n",
        "prime_numbers = check_primes_in_range()\n",
        "print(prime_numbers)\n"
      ],
      "metadata": {
        "colab": {
          "base_uri": "https://localhost:8080/"
        },
        "id": "mc_tUkiifxUn",
        "outputId": "9d58d883-155f-45a1-c3fe-4723d007d3cc"
      },
      "execution_count": 31,
      "outputs": [
        {
          "output_type": "stream",
          "name": "stdout",
          "text": [
            "[2, 3, 5, 7, 11, 13, 17, 19, 23, 29, 31, 37, 41, 43, 47, 53, 59, 61, 67, 71, 73, 79, 83, 89, 97, 101, 103, 107, 109, 113, 127, 131, 137, 139, 149, 151, 157, 163, 167, 173, 179, 181, 191, 193, 197, 199]\n"
          ]
        }
      ]
    },
    {
      "cell_type": "code",
      "source": [
        "# 5. Create an iterator class in Python that generates the Fibonacci sequence up to a specified number of terms.\n",
        "\n",
        "class FibonacciIterator:\n",
        "    def __init__(self, terms):\n",
        "        self.terms = terms\n",
        "        self.count = 0\n",
        "        self.a, self.b = 0, 1  # Initial Fibonacci numbers\n",
        "\n",
        "    def __iter__(self):\n",
        "        return self\n",
        "\n",
        "    def __next__(self):\n",
        "        if self.count < self.terms:\n",
        "            result = self.a\n",
        "            self.a, self.b = self.b, self.a + self.b  # Update the Fibonacci sequence\n",
        "            self.count += 1\n",
        "            return result\n",
        "        else:\n",
        "            raise StopIteration  # Stop iteration after reaching the specified number of terms\n",
        "\n",
        "# Example :\n",
        "\n",
        "fibonacci = FibonacciIterator(10)  # Create an iterator for the first 10 terms\n",
        "for number in fibonacci:\n",
        "    print(number)"
      ],
      "metadata": {
        "colab": {
          "base_uri": "https://localhost:8080/"
        },
        "id": "OtPEh_VYfxXX",
        "outputId": "47b591ae-3593-4ae0-c555-e743a97d7de7"
      },
      "execution_count": 32,
      "outputs": [
        {
          "output_type": "stream",
          "name": "stdout",
          "text": [
            "0\n",
            "1\n",
            "1\n",
            "2\n",
            "3\n",
            "5\n",
            "8\n",
            "13\n",
            "21\n",
            "34\n"
          ]
        }
      ]
    },
    {
      "cell_type": "code",
      "source": [
        "# 6. Write a generator function in Python that yields the powers of 2 up to a given exponent.\n",
        "\n",
        "def powers_of_two(exponent):\n",
        "    for i in range(exponent + 1):\n",
        "        yield 2 ** i\n",
        "\n",
        "    #Example :\n",
        "\n",
        "exponent = 5\n",
        "for power in powers_of_two(exponent):\n",
        "    print(power)"
      ],
      "metadata": {
        "colab": {
          "base_uri": "https://localhost:8080/"
        },
        "id": "S2ur00HJfz_o",
        "outputId": "31d40f6d-819a-4db7-eb71-f04fb3b97c17"
      },
      "execution_count": 33,
      "outputs": [
        {
          "output_type": "stream",
          "name": "stdout",
          "text": [
            "1\n",
            "2\n",
            "4\n",
            "8\n",
            "16\n",
            "32\n"
          ]
        }
      ]
    },
    {
      "cell_type": "markdown",
      "source": [
        "7. Implement a generator function that reads a file line by line and yields each line as a string.\n",
        "\n",
        "    def read_lines(file_path):\n",
        "    with open(file_path) as f:\n",
        "        for line in f:\n",
        "            yield line.strip()\n",
        "\n",
        "    Example\n",
        "\n",
        "    for line in read_lines('example.txt'):\n",
        "    print(line)"
      ],
      "metadata": {
        "id": "2AqyCneTtkV9"
      }
    },
    {
      "cell_type": "code",
      "source": [
        "# 8. Use a lambda function in Python to sort a list of tuples based on the second element of each tuple.\n",
        "\n",
        "# List of tuples\n",
        "tuples_list = [(1, 3), (2, 1), (4, 2), (3, 4)]\n",
        "\n",
        "# Sort the list of tuples based on the second element of each tuple using lambda\n",
        "sorted_list = sorted(tuples_list, key=lambda x: x[1])\n",
        "\n",
        "# Print the sorted list\n",
        "print(sorted_list)\n"
      ],
      "metadata": {
        "colab": {
          "base_uri": "https://localhost:8080/"
        },
        "id": "c7tfBtIof0F9",
        "outputId": "c201abbc-4eb3-4158-9683-47fe5fb9829f"
      },
      "execution_count": 49,
      "outputs": [
        {
          "output_type": "stream",
          "name": "stdout",
          "text": [
            "[(2, 1), (4, 2), (1, 3), (3, 4)]\n"
          ]
        }
      ]
    },
    {
      "cell_type": "code",
      "source": [
        "# 9. Write a Python program that uses `map()` to convert a list of temperatures from Celsius to Fahrenheit.\n",
        "\n",
        "# List of temperatures in Celsius\n",
        "celsius_temps = [0, 20, 37, 100, -5]\n",
        "\n",
        "# Function to convert Celsius to Fahrenheit\n",
        "def celsius_to_fahrenheit(celsius):\n",
        "    return (celsius * 9/5) + 32\n",
        "\n",
        "# Use map() to apply the conversion function to each element in the Celsius list\n",
        "fahrenheit_temps = list(map(celsius_to_fahrenheit, celsius_temps))\n",
        "\n",
        "# Print the converted temperatures\n",
        "print(fahrenheit_temps)\n"
      ],
      "metadata": {
        "colab": {
          "base_uri": "https://localhost:8080/"
        },
        "id": "D61-Igvjkfxi",
        "outputId": "5e32cadb-aa83-473e-ce17-598cccad81d5"
      },
      "execution_count": 51,
      "outputs": [
        {
          "output_type": "stream",
          "name": "stdout",
          "text": [
            "[32.0, 68.0, 98.6, 212.0, 23.0]\n"
          ]
        }
      ]
    },
    {
      "cell_type": "code",
      "source": [
        "# 10. Create a Python program that uses `filter()` to remove all the vowels from a given string.\n",
        "\n",
        "# Function to check if a character is a vowel\n",
        "def is_not_vowel(char):\n",
        "    vowels = \"aeiouAEIOU\"\n",
        "    return char not in vowels\n",
        "\n",
        "# Given string\n",
        "input_string = \"Hello, World!\"\n",
        "\n",
        "# Use filter() to remove vowels by applying the is_not_vowel function\n",
        "filtered_string = ''.join(filter(is_not_vowel, input_string))\n",
        "\n",
        "# Print the result\n",
        "print(filtered_string)\n"
      ],
      "metadata": {
        "colab": {
          "base_uri": "https://localhost:8080/"
        },
        "id": "61Q71djjkf1N",
        "outputId": "038c8bbf-8e2a-42e8-c4cb-5acf8afe443f"
      },
      "execution_count": 52,
      "outputs": [
        {
          "output_type": "stream",
          "name": "stdout",
          "text": [
            "Hll, Wrld!\n"
          ]
        }
      ]
    }
  ]
}